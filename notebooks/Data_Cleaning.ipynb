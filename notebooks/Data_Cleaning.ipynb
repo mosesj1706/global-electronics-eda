{
  "nbformat": 4,
  "nbformat_minor": 0,
  "metadata": {
    "colab": {
      "provenance": [],
      "authorship_tag": "ABX9TyPNufg8IHCAC5anCQ51+KYd",
      "include_colab_link": true
    },
    "kernelspec": {
      "name": "python3",
      "display_name": "Python 3"
    },
    "language_info": {
      "name": "python"
    }
  },
  "cells": [
    {
      "cell_type": "markdown",
      "metadata": {
        "id": "view-in-github",
        "colab_type": "text"
      },
      "source": [
        "<a href=\"https://colab.research.google.com/github/mosesj1706/global-electronics-eda/blob/main/Data_Cleaning.ipynb\" target=\"_parent\"><img src=\"https://colab.research.google.com/assets/colab-badge.svg\" alt=\"Open In Colab\"/></a>"
      ]
    },
    {
      "cell_type": "code",
      "source": [
        "!git clone https://github.com/mosesj1706/global-electronics-eda.git\n",
        "%cd global-electronics-eda\n"
      ],
      "metadata": {
        "colab": {
          "base_uri": "https://localhost:8080/"
        },
        "id": "bxI5A6MOh-gF",
        "outputId": "a0268a14-08a5-41ae-aedd-f63f2018f300"
      },
      "execution_count": null,
      "outputs": [
        {
          "output_type": "stream",
          "name": "stdout",
          "text": [
            "Cloning into 'global-electronics-eda'...\n",
            "remote: Enumerating objects: 30, done.\u001b[K\n",
            "remote: Counting objects: 100% (30/30), done.\u001b[K\n",
            "remote: Compressing objects: 100% (24/24), done.\u001b[K\n",
            "remote: Total 30 (delta 3), reused 24 (delta 1), pack-reused 0 (from 0)\u001b[K\n",
            "Receiving objects: 100% (30/30), 1.06 MiB | 4.42 MiB/s, done.\n",
            "Resolving deltas: 100% (3/3), done.\n",
            "/content/global-electronics-eda\n"
          ]
        }
      ]
    },
    {
      "cell_type": "code",
      "source": [
        "from google.colab import files\n",
        "import shutil, os\n",
        "\n",
        "uploaded = files.upload()\n",
        "\n",
        "for fname in uploaded.keys():\n",
        "    dst = os.path.join(\"Uncleaned_CSV_files\", fname)\n",
        "    if os.path.exists(dst):\n",
        "        os.remove(dst)   # overwrite old version\n",
        "    shutil.move(fname, dst)\n",
        "\n",
        "print(\"✅ Files updated in Uncleaned_CSV_files/\")\n"
      ],
      "metadata": {
        "colab": {
          "base_uri": "https://localhost:8080/"
        },
        "id": "YffTLMgCihUC",
        "outputId": "80fd4ec7-ee19-4bfa-db35-d21cc11f1aeb"
      },
      "execution_count": null,
      "outputs": [
        {
          "output_type": "stream",
          "name": "stdout",
          "text": [
            "✅ Files updated in Uncleaned_CSV_files/\n"
          ]
        }
      ]
    },
    {
      "cell_type": "code",
      "execution_count": 5,
      "metadata": {
        "id": "wx_8k7yIE8Kh",
        "colab": {
          "base_uri": "https://localhost:8080/"
        },
        "outputId": "478c673d-99b1-43d3-fc59-f9e110cc5b1f"
      },
      "outputs": [
        {
          "output_type": "stream",
          "name": "stdout",
          "text": [
            "📂 Uncleaned Path: /content/global-electronics-eda/Uncleaned_CSV_files\n",
            "📂 Cleaned Path: /content/global-electronics-eda/Cleaned_CSV_files\n",
            "⚠️ Used ISO-8859-1 encoding for Customers.csv\n",
            "✅ Loaded Customers.csv | Shape: (15266, 10)\n",
            "✅ Loaded Products.csv | Shape: (2517, 10)\n",
            "✅ Loaded Sales.csv | Shape: (62884, 9)\n",
            "✅ Loaded Stores.csv | Shape: (67, 5)\n",
            "✅ Loaded Exchange_Rates.csv | Shape: (11215, 3)\n",
            "✅ Customers cleaned\n",
            "✅ Products cleaned\n",
            "✅ Sales cleaned\n",
            "✅ Stores cleaned\n",
            "✅ Exchange Rates cleaned\n",
            "\n",
            "📂 Cleaned files created:\n",
            "total 4.7M\n",
            "-rw-r--r-- 1 root root 1.5M Sep 23 17:18 Customers_clean.csv\n",
            "-rw-r--r-- 1 root root 234K Sep 23 17:18 Exchange_Rates_clean.csv\n",
            "-rw-r--r-- 1 root root 256K Sep 23 17:18 Products_clean.csv\n",
            "-rw-r--r-- 1 root root  491 Sep 23 17:03 README.md\n",
            "-rw-r--r-- 1 root root 2.7M Sep 23 17:18 Sales_clean.csv\n",
            "-rw-r--r-- 1 root root 2.9K Sep 23 17:18 Stores_clean.csv\n"
          ]
        }
      ],
      "source": [
        "# ===============================================\n",
        "# 📊 Global Electronics - Data Cleaning Notebook\n",
        "# ===============================================\n",
        "# Run this notebook in Google Colab.\n",
        "# Raw CSVs -> Uncleaned_CSV_files/\n",
        "# Cleaned CSVs -> Cleaned_CSV_files/\n",
        "\n",
        "# ---- STEP 1: Install dependencies ----\n",
        "!pip install pandas numpy matplotlib seaborn --quiet\n",
        "\n",
        "# ---- STEP 2: Import libraries ----\n",
        "import pandas as pd\n",
        "import numpy as np\n",
        "import os\n",
        "\n",
        "# ---- STEP 3: Project path ----\n",
        "project_path = \"/content/global-electronics-eda\"\n",
        "\n",
        "uncleaned_path = os.path.join(project_path, \"Uncleaned_CSV_files\")\n",
        "cleaned_path   = os.path.join(project_path, \"Cleaned_CSV_files\")\n",
        "\n",
        "os.makedirs(cleaned_path, exist_ok=True)\n",
        "\n",
        "print(\"📂 Uncleaned Path:\", uncleaned_path)\n",
        "print(\"📂 Cleaned Path:\", cleaned_path)\n",
        "\n",
        "# ---- STEP 4: Load datasets with encoding fallback ----\n",
        "def load_csv(filename):\n",
        "    path = os.path.join(uncleaned_path, filename)\n",
        "    try:\n",
        "        df = pd.read_csv(path, low_memory=False, encoding=\"utf-8\")\n",
        "    except UnicodeDecodeError:\n",
        "        try:\n",
        "            df = pd.read_csv(path, low_memory=False, encoding=\"ISO-8859-1\")\n",
        "            print(f\"⚠️ Used ISO-8859-1 encoding for {filename}\")\n",
        "        except Exception as e:\n",
        "            print(f\"❌ Error reading {filename}: {e}\")\n",
        "            return None\n",
        "    print(f\"✅ Loaded {filename} | Shape: {df.shape}\")\n",
        "    return df\n",
        "\n",
        "customers = load_csv(\"Customers.csv\")\n",
        "products  = load_csv(\"Products.csv\")\n",
        "sales     = load_csv(\"Sales.csv\")\n",
        "stores    = load_csv(\"Stores.csv\")\n",
        "rates     = load_csv(\"Exchange_Rates.csv\")\n",
        "\n",
        "# ---- STEP 5: Clean Customers ----\n",
        "if customers is not None:\n",
        "    customers['Birthday'] = pd.to_datetime(customers['Birthday'], errors='coerce')\n",
        "    ref_date = pd.to_datetime(\"today\")\n",
        "    customers['Age'] = ((ref_date - customers['Birthday']).dt.days // 365).astype(\"Int64\")\n",
        "    bins = [0,18,25,35,45,55,65,120]\n",
        "    labels = [\"<18\",\"18-24\",\"25-34\",\"35-44\",\"45-54\",\"55-64\",\"65+\"]\n",
        "    customers['AgeGroup'] = pd.cut(customers['Age'], bins=bins, labels=labels, right=False)\n",
        "    customers = customers.drop_duplicates(subset=['CustomerKey'])\n",
        "    customers.to_csv(os.path.join(cleaned_path,\"Customers_clean.csv\"), index=False)\n",
        "    print(\"✅ Customers cleaned\")\n",
        "\n",
        "# ---- STEP 6: Clean Products ----\n",
        "if products is not None:\n",
        "    products['Unit Cost USD'] = pd.to_numeric(products['Unit Cost USD'], errors='coerce')\n",
        "    products['Unit Price USD'] = pd.to_numeric(products['Unit Price USD'], errors='coerce')\n",
        "    products['MarginUSD'] = products['Unit Price USD'] - products['Unit Cost USD']\n",
        "    products = products.drop_duplicates(subset=['ProductKey'])\n",
        "    products.to_csv(os.path.join(cleaned_path,\"Products_clean.csv\"), index=False)\n",
        "    print(\"✅ Products cleaned\")\n",
        "\n",
        "# ---- STEP 7: Clean Sales ----\n",
        "if sales is not None:\n",
        "    sales['Order Date'] = pd.to_datetime(sales['Order Date'], errors='coerce')\n",
        "    sales['Delivery Date'] = pd.to_datetime(sales['Delivery Date'], errors='coerce')\n",
        "    sales['Quantity'] = pd.to_numeric(sales['Quantity'], errors='coerce').fillna(0).astype(int)\n",
        "    sales = sales.drop_duplicates(subset=['Order Number','Line Item'])\n",
        "    sales.to_csv(os.path.join(cleaned_path,\"Sales_clean.csv\"), index=False)\n",
        "    print(\"✅ Sales cleaned\")\n",
        "\n",
        "# ---- STEP 8: Clean Stores ----\n",
        "if stores is not None:\n",
        "    stores['Open Date'] = pd.to_datetime(stores['Open Date'], errors='coerce')\n",
        "    stores['Square Meters'] = pd.to_numeric(stores['Square Meters'], errors='coerce')\n",
        "    stores = stores.drop_duplicates(subset=['StoreKey'])\n",
        "    stores.to_csv(os.path.join(cleaned_path,\"Stores_clean.csv\"), index=False)\n",
        "    print(\"✅ Stores cleaned\")\n",
        "\n",
        "# ---- STEP 9: Clean Exchange Rates ----\n",
        "if rates is not None:\n",
        "    rates['Date'] = pd.to_datetime(rates['Date'], errors='coerce')\n",
        "    rates['Exchange'] = pd.to_numeric(rates['Exchange'], errors='coerce')\n",
        "    rates = rates.drop_duplicates()\n",
        "    rates.to_csv(os.path.join(cleaned_path,\"Exchange_Rates_clean.csv\"), index=False)\n",
        "    print(\"✅ Exchange Rates cleaned\")\n",
        "\n",
        "# ---- STEP 10: Verify outputs ----\n",
        "print(\"\\n📂 Cleaned files created:\")\n",
        "!ls -lh Cleaned_CSV_files\n"
      ]
    }
  ]
}