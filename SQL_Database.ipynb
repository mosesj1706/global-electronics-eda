{
  "nbformat": 4,
  "nbformat_minor": 0,
  "metadata": {
    "colab": {
      "provenance": [],
      "authorship_tag": "ABX9TyMl5pUVli4eWqyiuUkN9n1X",
      "include_colab_link": true
    },
    "kernelspec": {
      "name": "python3",
      "display_name": "Python 3"
    },
    "language_info": {
      "name": "python"
    }
  },
  "cells": [
    {
      "cell_type": "markdown",
      "metadata": {
        "id": "view-in-github",
        "colab_type": "text"
      },
      "source": [
        "<a href=\"https://colab.research.google.com/github/mosesj1706/global-electronics-eda/blob/main/SQL_Database.ipynb\" target=\"_parent\"><img src=\"https://colab.research.google.com/assets/colab-badge.svg\" alt=\"Open In Colab\"/></a>"
      ]
    },
    {
      "cell_type": "code",
      "source": [
        "# Go to /content\n",
        "%cd /content\n",
        "\n",
        "# Remove any old copy\n",
        "!rm -rf global-electronics-eda\n",
        "\n",
        "# Clone your repo again\n",
        "!git clone https://github.com/mosesj1706/global-electronics-eda.git\n",
        "\n",
        "# Move into repo\n",
        "%cd global-electronics-eda\n",
        "\n",
        "# List all folders/files\n",
        "!ls -R\n"
      ],
      "metadata": {
        "colab": {
          "base_uri": "https://localhost:8080/"
        },
        "id": "XY1r6XB-0ciW",
        "outputId": "e2cb6510-72f1-4df9-da5b-1ddd69a60529"
      },
      "execution_count": 6,
      "outputs": [
        {
          "output_type": "stream",
          "name": "stdout",
          "text": [
            "/content\n",
            "Cloning into 'global-electronics-eda'...\n",
            "remote: Enumerating objects: 57, done.\u001b[K\n",
            "remote: Counting objects: 100% (57/57), done.\u001b[K\n",
            "remote: Compressing objects: 100% (47/47), done.\u001b[K\n",
            "remote: Total 57 (delta 14), reused 41 (delta 5), pack-reused 0 (from 0)\u001b[K\n",
            "Receiving objects: 100% (57/57), 1.87 MiB | 13.14 MiB/s, done.\n",
            "Resolving deltas: 100% (14/14), done.\n",
            "/content/global-electronics-eda\n",
            ".:\n",
            "Cleaned_CSV_files  notebooks  Reports\t   src\n",
            "LICENSE\t\t   README.md  SQL_Queries  Uncleaned_CSV_files\n",
            "\n",
            "./Cleaned_CSV_files:\n",
            "Customers_clean.csv\t  Products_clean.csv  Sales_clean.csv\n",
            "Exchange_Rates_clean.csv  README.md\t      Stores_clean.csv\n",
            "\n",
            "./notebooks:\n",
            "Global_Electronics_EDA.ipynb  README.md\n",
            "\n",
            "./Reports:\n",
            "README.md\n",
            "\n",
            "./SQL_Queries:\n",
            "Untitled.txt\n",
            "\n",
            "./src:\n",
            "README.md\n",
            "\n",
            "./Uncleaned_CSV_files:\n",
            "Customers.csv\t     Exchange_Rates.csv  README.md  Stores.csv\n",
            "Data_Dictionary.csv  Products.csv\t Sales.csv\n"
          ]
        }
      ]
    },
    {
      "cell_type": "code",
      "source": [
        "!ls -R /content/global-electronics-eda\n"
      ],
      "metadata": {
        "colab": {
          "base_uri": "https://localhost:8080/"
        },
        "id": "INS1L1_L0P-O",
        "outputId": "b9219c5b-567a-44aa-a56a-86a3bda48d54"
      },
      "execution_count": 7,
      "outputs": [
        {
          "output_type": "stream",
          "name": "stdout",
          "text": [
            "/content/global-electronics-eda:\n",
            "Cleaned_CSV_files  notebooks  Reports\t   src\n",
            "LICENSE\t\t   README.md  SQL_Queries  Uncleaned_CSV_files\n",
            "\n",
            "/content/global-electronics-eda/Cleaned_CSV_files:\n",
            "Customers_clean.csv\t  Products_clean.csv  Sales_clean.csv\n",
            "Exchange_Rates_clean.csv  README.md\t      Stores_clean.csv\n",
            "\n",
            "/content/global-electronics-eda/notebooks:\n",
            "Global_Electronics_EDA.ipynb  README.md\n",
            "\n",
            "/content/global-electronics-eda/Reports:\n",
            "README.md\n",
            "\n",
            "/content/global-electronics-eda/SQL_Queries:\n",
            "Untitled.txt\n",
            "\n",
            "/content/global-electronics-eda/src:\n",
            "README.md\n",
            "\n",
            "/content/global-electronics-eda/Uncleaned_CSV_files:\n",
            "Customers.csv\t     Exchange_Rates.csv  README.md  Stores.csv\n",
            "Data_Dictionary.csv  Products.csv\t Sales.csv\n"
          ]
        }
      ]
    },
    {
      "cell_type": "code",
      "source": [
        "import os\n",
        "import pandas as pd\n",
        "import sqlite3\n",
        "\n",
        "# Repo and DB paths\n",
        "repo_path = \"/content/global-electronics-eda\"\n",
        "cleaned_path = os.path.join(repo_path, \"Cleaned_CSV_files\")\n",
        "db_path = os.path.join(repo_path, \"global_electronics.db\")\n"
      ],
      "metadata": {
        "id": "FD3-ivgaxau4"
      },
      "execution_count": 8,
      "outputs": []
    },
    {
      "cell_type": "code",
      "source": [
        "# Load cleaned CSVs\n",
        "customers = pd.read_csv(os.path.join(cleaned_path, \"Customers_clean.csv\"))\n",
        "products  = pd.read_csv(os.path.join(cleaned_path, \"Products_clean.csv\"))\n",
        "sales     = pd.read_csv(os.path.join(cleaned_path, \"Sales_clean.csv\"))\n",
        "stores    = pd.read_csv(os.path.join(cleaned_path, \"Stores_clean.csv\"))\n",
        "rates     = pd.read_csv(os.path.join(cleaned_path, \"Exchange_Rates_clean.csv\"))\n",
        "\n",
        "print(\"✅ Datasets loaded successfully\")\n",
        "print(\"Customers:\", customers.shape)\n",
        "print(\"Products:\", products.shape)\n",
        "print(\"Sales:\", sales.shape)\n",
        "print(\"Stores:\", stores.shape)\n",
        "print(\"Exchange Rates:\", rates.shape)\n"
      ],
      "metadata": {
        "colab": {
          "base_uri": "https://localhost:8080/"
        },
        "id": "ON_ZPo54zHgv",
        "outputId": "78ba01b4-a788-4c54-df42-013542758990"
      },
      "execution_count": 9,
      "outputs": [
        {
          "output_type": "stream",
          "name": "stdout",
          "text": [
            "✅ Datasets loaded successfully\n",
            "Customers: (15266, 12)\n",
            "Products: (2517, 11)\n",
            "Sales: (62884, 9)\n",
            "Stores: (67, 5)\n",
            "Exchange Rates: (11215, 3)\n"
          ]
        }
      ]
    },
    {
      "cell_type": "code",
      "source": [
        "# Remove old DB if exists\n",
        "if os.path.exists(db_path):\n",
        "    os.remove(db_path)\n",
        "    print(\"🗑️ Old DB removed\")\n",
        "\n",
        "# Connect to new SQLite DB\n",
        "conn = sqlite3.connect(db_path)\n",
        "cursor = conn.cursor()\n",
        "print(f\"✅ Connected to SQLite at {db_path}\")\n"
      ],
      "metadata": {
        "colab": {
          "base_uri": "https://localhost:8080/"
        },
        "id": "N8cyvA8q2ao_",
        "outputId": "3879e561-4e3a-4932-dd45-24a962daebeb"
      },
      "execution_count": 10,
      "outputs": [
        {
          "output_type": "stream",
          "name": "stdout",
          "text": [
            "✅ Connected to SQLite at /content/global-electronics-eda/global_electronics.db\n"
          ]
        }
      ]
    },
    {
      "cell_type": "code",
      "source": [
        "# Write all DataFrames into SQLite\n",
        "customers.to_sql(\"Customers\", conn, if_exists=\"replace\", index=False)\n",
        "products.to_sql(\"Products\", conn, if_exists=\"replace\", index=False)\n",
        "sales.to_sql(\"Sales\", conn, if_exists=\"replace\", index=False)\n",
        "stores.to_sql(\"Stores\", conn, if_exists=\"replace\", index=False)\n",
        "rates.to_sql(\"Exchange_Rates\", conn, if_exists=\"replace\", index=False)\n",
        "\n",
        "print(\"📦 All tables written to SQLite\")\n"
      ],
      "metadata": {
        "colab": {
          "base_uri": "https://localhost:8080/"
        },
        "id": "NR6ufamz2eAy",
        "outputId": "7fcb82fc-a201-4687-e249-84289d9d4ffe"
      },
      "execution_count": 11,
      "outputs": [
        {
          "output_type": "stream",
          "name": "stdout",
          "text": [
            "📦 All tables written to SQLite\n"
          ]
        }
      ]
    },
    {
      "cell_type": "code",
      "source": [
        "print(\"Customers Schema:\")\n",
        "print(pd.read_sql(\"PRAGMA table_info(Customers);\", conn))\n",
        "\n",
        "print(\"\\nProducts Schema:\")\n",
        "print(pd.read_sql(\"PRAGMA table_info(Products);\", conn))\n",
        "\n",
        "print(\"\\nSales Schema:\")\n",
        "print(pd.read_sql(\"PRAGMA table_info(Sales);\", conn))\n",
        "\n",
        "print(\"\\nStores Schema:\")\n",
        "print(pd.read_sql(\"PRAGMA table_info(Stores);\", conn))\n",
        "\n",
        "print(\"\\nExchange_Rates Schema:\")\n",
        "print(pd.read_sql(\"PRAGMA table_info(Exchange_Rates);\", conn))\n"
      ],
      "metadata": {
        "colab": {
          "base_uri": "https://localhost:8080/"
        },
        "id": "TkegWYF_2g2O",
        "outputId": "07493c75-4eca-4bf1-cb03-bb927ff88749"
      },
      "execution_count": 12,
      "outputs": [
        {
          "output_type": "stream",
          "name": "stdout",
          "text": [
            "Customers Schema:\n",
            "    cid         name     type  notnull dflt_value  pk\n",
            "0     0  CustomerKey  INTEGER        0       None   0\n",
            "1     1       Gender     TEXT        0       None   0\n",
            "2     2         Name     TEXT        0       None   0\n",
            "3     3         City     TEXT        0       None   0\n",
            "4     4   State Code     TEXT        0       None   0\n",
            "5     5        State     TEXT        0       None   0\n",
            "6     6     Zip Code     TEXT        0       None   0\n",
            "7     7      Country     TEXT        0       None   0\n",
            "8     8    Continent     TEXT        0       None   0\n",
            "9     9     Birthday     TEXT        0       None   0\n",
            "10   10          Age  INTEGER        0       None   0\n",
            "11   11     AgeGroup     TEXT        0       None   0\n",
            "\n",
            "Products Schema:\n",
            "    cid            name     type  notnull dflt_value  pk\n",
            "0     0      ProductKey  INTEGER        0       None   0\n",
            "1     1    Product Name     TEXT        0       None   0\n",
            "2     2           Brand     TEXT        0       None   0\n",
            "3     3           Color     TEXT        0       None   0\n",
            "4     4   Unit Cost USD     REAL        0       None   0\n",
            "5     5  Unit Price USD     REAL        0       None   0\n",
            "6     6  SubcategoryKey  INTEGER        0       None   0\n",
            "7     7     Subcategory     TEXT        0       None   0\n",
            "8     8     CategoryKey  INTEGER        0       None   0\n",
            "9     9        Category     TEXT        0       None   0\n",
            "10   10       MarginUSD     REAL        0       None   0\n",
            "\n",
            "Sales Schema:\n",
            "   cid           name     type  notnull dflt_value  pk\n",
            "0    0   Order Number  INTEGER        0       None   0\n",
            "1    1      Line Item  INTEGER        0       None   0\n",
            "2    2     Order Date     TEXT        0       None   0\n",
            "3    3  Delivery Date     TEXT        0       None   0\n",
            "4    4    CustomerKey  INTEGER        0       None   0\n",
            "5    5       StoreKey  INTEGER        0       None   0\n",
            "6    6     ProductKey  INTEGER        0       None   0\n",
            "7    7       Quantity  INTEGER        0       None   0\n",
            "8    8  Currency Code     TEXT        0       None   0\n",
            "\n",
            "Stores Schema:\n",
            "   cid           name     type  notnull dflt_value  pk\n",
            "0    0       StoreKey  INTEGER        0       None   0\n",
            "1    1        Country     TEXT        0       None   0\n",
            "2    2          State     TEXT        0       None   0\n",
            "3    3  Square Meters     REAL        0       None   0\n",
            "4    4      Open Date     TEXT        0       None   0\n",
            "\n",
            "Exchange_Rates Schema:\n",
            "   cid      name  type  notnull dflt_value  pk\n",
            "0    0      Date  TEXT        0       None   0\n",
            "1    1  Currency  TEXT        0       None   0\n",
            "2    2  Exchange  REAL        0       None   0\n"
          ]
        }
      ]
    },
    {
      "cell_type": "code",
      "source": [
        "print(\"Customers:\", pd.read_sql(\"SELECT COUNT(*) as rows FROM Customers;\", conn))\n",
        "print(\"Products:\", pd.read_sql(\"SELECT COUNT(*) as rows FROM Products;\", conn))\n",
        "print(\"Sales:\", pd.read_sql(\"SELECT COUNT(*) as rows FROM Sales;\", conn))\n",
        "print(\"Stores:\", pd.read_sql(\"SELECT COUNT(*) as rows FROM Stores;\", conn))\n",
        "print(\"Exchange_Rates:\", pd.read_sql(\"SELECT COUNT(*) as rows FROM Exchange_Rates;\", conn))\n"
      ],
      "metadata": {
        "colab": {
          "base_uri": "https://localhost:8080/"
        },
        "id": "gcYPPzF12l6N",
        "outputId": "3da5a82c-d173-454d-ff1d-820f8bb1498f"
      },
      "execution_count": 13,
      "outputs": [
        {
          "output_type": "stream",
          "name": "stdout",
          "text": [
            "Customers:     rows\n",
            "0  15266\n",
            "Products:    rows\n",
            "0  2517\n",
            "Sales:     rows\n",
            "0  62884\n",
            "Stores:    rows\n",
            "0    67\n",
            "Exchange_Rates:     rows\n",
            "0  11215\n"
          ]
        }
      ]
    },
    {
      "cell_type": "code",
      "source": [
        "conn.close()\n",
        "print(\"🔒 SQLite connection closed\")\n"
      ],
      "metadata": {
        "id": "UcVVbZpt2otr"
      },
      "execution_count": null,
      "outputs": []
    }
  ]
}